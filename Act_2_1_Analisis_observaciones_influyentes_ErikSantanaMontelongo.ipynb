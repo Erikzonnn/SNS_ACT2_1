{
  "nbformat": 4,
  "nbformat_minor": 0,
  "metadata": {
    "colab": {
      "provenance": []
    },
    "kernelspec": {
      "name": "python3",
      "display_name": "Python 3"
    },
    "language_info": {
      "name": "python"
    }
  },
  "cells": [
    {
      "cell_type": "markdown",
      "source": [
        "# Erik Santana Montelongo\n",
        "# **Responder a las siguientes preguntas:**\n",
        "\n",
        "\n",
        "1.   Calcular la media y la mediana antes de realizar la modificación de incluir unos ingresos de 500.000€\n",
        "\n",
        "2.   Aplicar el método de Probabilidad global, para detectar los outliers utilizado en el ejemplo 2_3_Outliers (Url:https://colab.research.google.com/drive/1C6uBUxui_Qq9ee-51ycVYcqigrSHSZNY?usp=sharing)\n",
        "\n",
        "3.   Repetir el mismo procedimiento de detectar los outliers para la\n",
        "mediana: ¿Qué ocurre?\n"
      ],
      "metadata": {
        "id": "_t73TDnNUeJa"
      }
    },
    {
      "cell_type": "markdown",
      "source": [
        "# a) Calcular la media y la mediana antes de realizar la modificación de incluir unos ingresos de 500.000€"
      ],
      "metadata": {
        "id": "sW_vHuOPUsoA"
      }
    },
    {
      "cell_type": "code",
      "execution_count": 15,
      "metadata": {
        "colab": {
          "base_uri": "https://localhost:8080/"
        },
        "id": "WPMvMEOZUMkv",
        "outputId": "32c42e3d-eefc-477a-ef33-b80962486132"
      },
      "outputs": [
        {
          "output_type": "execute_result",
          "data": {
            "text/plain": [
              "array([15022.80430473, 15045.03147163, 15282.07448288, 15287.12202144,\n",
              "       15346.38261049, 15438.99849886, 15447.85048388, 15776.37782915,\n",
              "       16020.69753649, 16068.45235812, 16188.4276136 , 16486.59853492,\n",
              "       16504.62832241, 16612.4118564 , 16665.79721776, 16908.6867429 ,\n",
              "       16913.71458515, 17034.70862748, 17269.39632234, 17308.87669954,\n",
              "       17320.58931122, 17481.64785924, 17528.80610788, 17602.82710768,\n",
              "       17606.82148083, 17615.35357556, 17623.80442856, 17667.73823853,\n",
              "       17731.8432514 , 17756.93013556, 17805.74719794, 17807.53463811,\n",
              "       17829.81318523, 17907.50089394, 17961.88852936, 17968.18216249,\n",
              "       18341.02788082, 18378.68604841, 18398.91436417, 18526.45371714,\n",
              "       18549.3912295 , 18747.50147921, 18797.32283422, 18914.06641021,\n",
              "       18971.97998908, 19086.28582227, 19102.06172153, 19260.20349131,\n",
              "       19384.68881141, 19445.57450865, 19902.57629539, 20032.7333098 ,\n",
              "       20097.74370107, 20205.33235925, 20300.98122207, 20332.37862153,\n",
              "       20481.24269029, 20484.00970985, 20603.82818216, 20656.75732331,\n",
              "       20694.86545118, 20769.67158286, 20920.41473522, 21090.88890114,\n",
              "       21216.66073614, 21422.64634552, 21440.19231173, 21747.89966349,\n",
              "       21764.34559945, 22092.41743182, 22203.4266505 , 22325.46756027,\n",
              "       22344.81597539, 22506.38416998, 22653.03749266, 22764.69768163,\n",
              "       22779.18244212, 22929.28596019, 22968.37711995, 23027.48514424,\n",
              "       23441.85077036, 23467.15116818, 23494.57008873, 23535.49209312,\n",
              "       23578.21443918, 23600.73890375, 23649.17307535, 23686.24892357,\n",
              "       23792.95007563, 23817.84013984, 23875.52921323, 23954.90724358,\n",
              "       24169.09213721, 24229.37207766, 24348.22608478, 24550.16709577,\n",
              "       24609.73923231, 24723.53795351, 24822.95083832, 24845.92407622])"
            ]
          },
          "metadata": {},
          "execution_count": 15
        }
      ],
      "source": [
        "import numpy as np\n",
        "import pandas as pd\n",
        "import scipy.stats as st\n",
        "\n",
        "datos = 15000+np.random.rand(100)*10000\n",
        "datos_ord = datos\n",
        "datos_ord.sort()\n",
        "datos"
      ]
    },
    {
      "cell_type": "code",
      "source": [
        "media=  np.mean(datos)\n",
        "mediana=  np.median (datos)\n",
        "print(f\" Media= {media} y Mediana={mediana}\")"
      ],
      "metadata": {
        "colab": {
          "base_uri": "https://localhost:8080/"
        },
        "id": "UCR0dM_TVxsI",
        "outputId": "23f812f8-d706-474b-9ed9-aed6147e1dee"
      },
      "execution_count": 8,
      "outputs": [
        {
          "output_type": "stream",
          "name": "stdout",
          "text": [
            " Media= 20084.98898016097 y Mediana=20406.482194406366\n"
          ]
        }
      ]
    },
    {
      "cell_type": "markdown",
      "source": [
        "# b) Aplicar el método de Probabilidad global, para detectar los outliers"
      ],
      "metadata": {
        "id": "iIAboNYhjGlV"
      }
    },
    {
      "cell_type": "code",
      "source": [
        "# Cambiamos los valores de dos datos para convertirlos en outliers\n",
        "datos[50]=500000\n",
        "datos"
      ],
      "metadata": {
        "colab": {
          "base_uri": "https://localhost:8080/"
        },
        "id": "cK57gyrt-O2e",
        "outputId": "3dc6bddc-0848-40e7-f2a2-881b97ff8f50"
      },
      "execution_count": 18,
      "outputs": [
        {
          "output_type": "execute_result",
          "data": {
            "text/plain": [
              "array([ 15022.80430473,  15045.03147163,  15282.07448288,  15287.12202144,\n",
              "        15346.38261049,  15438.99849886,  15447.85048388,  15776.37782915,\n",
              "        16020.69753649,  16068.45235812,  16188.4276136 ,  16486.59853492,\n",
              "        16504.62832241,  16612.4118564 ,  16665.79721776,  16908.6867429 ,\n",
              "        16913.71458515,  17034.70862748,  17269.39632234,  17308.87669954,\n",
              "        17320.58931122,  17481.64785924,  17528.80610788,  17602.82710768,\n",
              "        17606.82148083,  17615.35357556,  17623.80442856,  17667.73823853,\n",
              "        17731.8432514 ,  17756.93013556,  17805.74719794,  17807.53463811,\n",
              "        17829.81318523,  17907.50089394,  17961.88852936,  17968.18216249,\n",
              "        18341.02788082,  18378.68604841,  18398.91436417,  18526.45371714,\n",
              "        18549.3912295 ,  18747.50147921,  18797.32283422,  18914.06641021,\n",
              "        18971.97998908,  19086.28582227,  19102.06172153,  19260.20349131,\n",
              "        19384.68881141,  19445.57450865, 500000.        ,  20032.7333098 ,\n",
              "        20097.74370107,  20205.33235925,  20300.98122207,  20332.37862153,\n",
              "        20481.24269029,  20484.00970985,  20603.82818216,  20656.75732331,\n",
              "        20694.86545118,  20769.67158286,  20920.41473522,  21090.88890114,\n",
              "        21216.66073614,  21422.64634552,  21440.19231173,  21747.89966349,\n",
              "        21764.34559945,  22092.41743182,  22203.4266505 ,  22325.46756027,\n",
              "        22344.81597539,  22506.38416998,  22653.03749266,  22764.69768163,\n",
              "        22779.18244212,  22929.28596019,  22968.37711995,  23027.48514424,\n",
              "        23441.85077036,  23467.15116818,  23494.57008873,  23535.49209312,\n",
              "        23578.21443918,  23600.73890375,  23649.17307535,  23686.24892357,\n",
              "        23792.95007563,  23817.84013984,  23875.52921323,  23954.90724358,\n",
              "        24169.09213721,  24229.37207766,  24348.22608478,  24550.16709577,\n",
              "        24609.73923231,  24723.53795351,  24822.95083832,  24845.92407622])"
            ]
          },
          "metadata": {},
          "execution_count": 18
        }
      ]
    },
    {
      "cell_type": "code",
      "source": [
        "p_g=0.95\n",
        "alfa_g=(1-p_g)/2\n",
        "alfa= 1-(1-alfa_g)**(1/len(datos))"
      ],
      "metadata": {
        "id": "sGrL8WS_jPxm"
      },
      "execution_count": 19,
      "outputs": []
    },
    {
      "cell_type": "code",
      "source": [
        "Z_alfa=st.norm.ppf(1-alfa/2)"
      ],
      "metadata": {
        "id": "ixaCWcR7jbQe"
      },
      "execution_count": 20,
      "outputs": []
    },
    {
      "cell_type": "code",
      "source": [
        "# Impresión de resultados\n",
        "alfa=round(alfa,5)\n",
        "Z_alfa=round(Z_alfa,5)\n",
        "print(f\" Alfa ={alfa}\")\n",
        "print(f\" Z_alfa ={Z_alfa}\")"
      ],
      "metadata": {
        "id": "bu1z4Y6ukZhu",
        "outputId": "22e5ad38-85f2-43b4-b040-25088a934bb1",
        "colab": {
          "base_uri": "https://localhost:8080/"
        }
      },
      "execution_count": 21,
      "outputs": [
        {
          "output_type": "stream",
          "name": "stdout",
          "text": [
            " Alfa =0.00025\n",
            " Z_alfa =3.65906\n"
          ]
        }
      ]
    },
    {
      "cell_type": "code",
      "source": [
        "# Utilizaremos el Criterio 1 ó el Criuterio 2 para calcular alfa y Z-alfa en función de la naturaleza de los datos que estamos procesando.\n",
        "xL=  round(np.mean(datos)-Z_alfa*  np.std(datos),4)\n",
        "xU=  round(np.mean(datos)+Z_alfa*  np.std(datos),4)\n",
        "print(f\" Banda= [ {xL},{xU}]\")"
      ],
      "metadata": {
        "colab": {
          "base_uri": "https://localhost:8080/"
        },
        "id": "7Rl45gepkUju",
        "outputId": "7083cfae-80ed-487b-d842-1628ee15ce8f"
      },
      "execution_count": 22,
      "outputs": [
        {
          "output_type": "stream",
          "name": "stdout",
          "text": [
            " Banda= [ -150371.7404,199827.7618]\n"
          ]
        }
      ]
    },
    {
      "cell_type": "code",
      "source": [
        "for i in  range(len(datos)):\n",
        "        if datos[i] < xL  or datos[i]>xU:\n",
        "          print(f\" El dato[{i}]={datos[i]} es un outlier\")"
      ],
      "metadata": {
        "id": "nz9uN3hbji5-",
        "colab": {
          "base_uri": "https://localhost:8080/"
        },
        "outputId": "adfbba04-4e0b-40b6-c5ad-3a42d7655e31"
      },
      "execution_count": 23,
      "outputs": [
        {
          "output_type": "stream",
          "name": "stdout",
          "text": [
            " El dato[50]=500000.0 es un outlier\n"
          ]
        }
      ]
    },
    {
      "cell_type": "markdown",
      "source": [
        "# c) Repetir el mismo procedimiento de detectar los outliers para la mediana: ¿Qué ocurre?"
      ],
      "metadata": {
        "id": "KcauzPRP-rN9"
      }
    },
    {
      "cell_type": "code",
      "source": [
        "import numpy as np\n",
        "import pandas as pd\n",
        "\n",
        "datos_ord = datos\n",
        "datos_ord.sort()\n",
        "datos"
      ],
      "metadata": {
        "colab": {
          "base_uri": "https://localhost:8080/"
        },
        "id": "aeuAYg1I-_kV",
        "outputId": "5195a20e-34b2-445b-e738-c257c9397e3d"
      },
      "execution_count": 24,
      "outputs": [
        {
          "output_type": "execute_result",
          "data": {
            "text/plain": [
              "array([ 15022.80430473,  15045.03147163,  15282.07448288,  15287.12202144,\n",
              "        15346.38261049,  15438.99849886,  15447.85048388,  15776.37782915,\n",
              "        16020.69753649,  16068.45235812,  16188.4276136 ,  16486.59853492,\n",
              "        16504.62832241,  16612.4118564 ,  16665.79721776,  16908.6867429 ,\n",
              "        16913.71458515,  17034.70862748,  17269.39632234,  17308.87669954,\n",
              "        17320.58931122,  17481.64785924,  17528.80610788,  17602.82710768,\n",
              "        17606.82148083,  17615.35357556,  17623.80442856,  17667.73823853,\n",
              "        17731.8432514 ,  17756.93013556,  17805.74719794,  17807.53463811,\n",
              "        17829.81318523,  17907.50089394,  17961.88852936,  17968.18216249,\n",
              "        18341.02788082,  18378.68604841,  18398.91436417,  18526.45371714,\n",
              "        18549.3912295 ,  18747.50147921,  18797.32283422,  18914.06641021,\n",
              "        18971.97998908,  19086.28582227,  19102.06172153,  19260.20349131,\n",
              "        19384.68881141,  19445.57450865,  20032.7333098 ,  20097.74370107,\n",
              "        20205.33235925,  20300.98122207,  20332.37862153,  20481.24269029,\n",
              "        20484.00970985,  20603.82818216,  20656.75732331,  20694.86545118,\n",
              "        20769.67158286,  20920.41473522,  21090.88890114,  21216.66073614,\n",
              "        21422.64634552,  21440.19231173,  21747.89966349,  21764.34559945,\n",
              "        22092.41743182,  22203.4266505 ,  22325.46756027,  22344.81597539,\n",
              "        22506.38416998,  22653.03749266,  22764.69768163,  22779.18244212,\n",
              "        22929.28596019,  22968.37711995,  23027.48514424,  23441.85077036,\n",
              "        23467.15116818,  23494.57008873,  23535.49209312,  23578.21443918,\n",
              "        23600.73890375,  23649.17307535,  23686.24892357,  23792.95007563,\n",
              "        23817.84013984,  23875.52921323,  23954.90724358,  24169.09213721,\n",
              "        24229.37207766,  24348.22608478,  24550.16709577,  24609.73923231,\n",
              "        24723.53795351,  24822.95083832,  24845.92407622, 500000.        ])"
            ]
          },
          "metadata": {},
          "execution_count": 24
        }
      ]
    },
    {
      "cell_type": "code",
      "source": [
        "media=  np.mean(datos)\n",
        "mediana=  np.median (datos)\n",
        "print(f\" Media= {media} y Mediana={mediana}\")"
      ],
      "metadata": {
        "colab": {
          "base_uri": "https://localhost:8080/"
        },
        "id": "sSdGpGHh_QsG",
        "outputId": "5b649fa0-0224-41fd-e8c9-a057d641687c"
      },
      "execution_count": 25,
      "outputs": [
        {
          "output_type": "stream",
          "name": "stdout",
          "text": [
            " Media= 24728.01070236752 y Mediana=19739.153909224446\n"
          ]
        }
      ]
    },
    {
      "cell_type": "code",
      "source": [
        "phi=np.zeros(len(datos))\n",
        "for i in  range(len(datos)):\n",
        "  datos_aux=datos\n",
        "  datos_sin_i=np.delete(datos_aux, i)\n",
        "  phi[i]=np.median(datos_sin_i)\n",
        "phi"
      ],
      "metadata": {
        "colab": {
          "base_uri": "https://localhost:8080/"
        },
        "id": "VIldRmPz_qQ-",
        "outputId": "cfceb155-b7b5-407a-e47c-c8f4a74e5aa9"
      },
      "execution_count": 26,
      "outputs": [
        {
          "output_type": "execute_result",
          "data": {
            "text/plain": [
              "array([20032.7333098 , 20032.7333098 , 20032.7333098 , 20032.7333098 ,\n",
              "       20032.7333098 , 20032.7333098 , 20032.7333098 , 20032.7333098 ,\n",
              "       20032.7333098 , 20032.7333098 , 20032.7333098 , 20032.7333098 ,\n",
              "       20032.7333098 , 20032.7333098 , 20032.7333098 , 20032.7333098 ,\n",
              "       20032.7333098 , 20032.7333098 , 20032.7333098 , 20032.7333098 ,\n",
              "       20032.7333098 , 20032.7333098 , 20032.7333098 , 20032.7333098 ,\n",
              "       20032.7333098 , 20032.7333098 , 20032.7333098 , 20032.7333098 ,\n",
              "       20032.7333098 , 20032.7333098 , 20032.7333098 , 20032.7333098 ,\n",
              "       20032.7333098 , 20032.7333098 , 20032.7333098 , 20032.7333098 ,\n",
              "       20032.7333098 , 20032.7333098 , 20032.7333098 , 20032.7333098 ,\n",
              "       20032.7333098 , 20032.7333098 , 20032.7333098 , 20032.7333098 ,\n",
              "       20032.7333098 , 20032.7333098 , 20032.7333098 , 20032.7333098 ,\n",
              "       20032.7333098 , 20032.7333098 , 19445.57450865, 19445.57450865,\n",
              "       19445.57450865, 19445.57450865, 19445.57450865, 19445.57450865,\n",
              "       19445.57450865, 19445.57450865, 19445.57450865, 19445.57450865,\n",
              "       19445.57450865, 19445.57450865, 19445.57450865, 19445.57450865,\n",
              "       19445.57450865, 19445.57450865, 19445.57450865, 19445.57450865,\n",
              "       19445.57450865, 19445.57450865, 19445.57450865, 19445.57450865,\n",
              "       19445.57450865, 19445.57450865, 19445.57450865, 19445.57450865,\n",
              "       19445.57450865, 19445.57450865, 19445.57450865, 19445.57450865,\n",
              "       19445.57450865, 19445.57450865, 19445.57450865, 19445.57450865,\n",
              "       19445.57450865, 19445.57450865, 19445.57450865, 19445.57450865,\n",
              "       19445.57450865, 19445.57450865, 19445.57450865, 19445.57450865,\n",
              "       19445.57450865, 19445.57450865, 19445.57450865, 19445.57450865,\n",
              "       19445.57450865, 19445.57450865, 19445.57450865, 19445.57450865])"
            ]
          },
          "metadata": {},
          "execution_count": 26
        }
      ]
    },
    {
      "cell_type": "code",
      "source": [
        "# Aplicamos el método de la distancia entre cuartiles, en este caso, al aplicar el método Jackknife no obtenemos\n",
        "# el valor del elemento que es considerado Outlier, sino la posición del mismo.\n",
        "Q1 = np.quantile(phi,0.25)\n",
        "Q3 = np.quantile(phi,0.75)\n",
        "IQR = Q3 - Q1\n",
        "xL=Q1 - 1.5 * IQR\n",
        "xU=Q3 + 1.5 * IQR\n",
        "for i in  range(len(datos)):\n",
        "        if phi[i] < xL  or phi[i]>xU:\n",
        "          print(f\" El dato {i} es una observación influyente para la mediana\")"
      ],
      "metadata": {
        "id": "h_KQnnmXA5CO"
      },
      "execution_count": 27,
      "outputs": []
    },
    {
      "cell_type": "code",
      "source": [
        "pd.DataFrame(phi).describe()"
      ],
      "metadata": {
        "colab": {
          "base_uri": "https://localhost:8080/",
          "height": 300
        },
        "id": "Mj3ZI1XCA7RG",
        "outputId": "01692b35-f9a8-4750-87dd-7a2e78a3b3fc"
      },
      "execution_count": 28,
      "outputs": [
        {
          "output_type": "execute_result",
          "data": {
            "text/plain": [
              "                  0\n",
              "count    100.000000\n",
              "mean   19739.153909\n",
              "std      295.058399\n",
              "min    19445.574509\n",
              "25%    19445.574509\n",
              "50%    19739.153909\n",
              "75%    20032.733310\n",
              "max    20032.733310"
            ],
            "text/html": [
              "\n",
              "  <div id=\"df-ec9e2a66-01d4-4275-9a4d-71cb093322a1\" class=\"colab-df-container\">\n",
              "    <div>\n",
              "<style scoped>\n",
              "    .dataframe tbody tr th:only-of-type {\n",
              "        vertical-align: middle;\n",
              "    }\n",
              "\n",
              "    .dataframe tbody tr th {\n",
              "        vertical-align: top;\n",
              "    }\n",
              "\n",
              "    .dataframe thead th {\n",
              "        text-align: right;\n",
              "    }\n",
              "</style>\n",
              "<table border=\"1\" class=\"dataframe\">\n",
              "  <thead>\n",
              "    <tr style=\"text-align: right;\">\n",
              "      <th></th>\n",
              "      <th>0</th>\n",
              "    </tr>\n",
              "  </thead>\n",
              "  <tbody>\n",
              "    <tr>\n",
              "      <th>count</th>\n",
              "      <td>100.000000</td>\n",
              "    </tr>\n",
              "    <tr>\n",
              "      <th>mean</th>\n",
              "      <td>19739.153909</td>\n",
              "    </tr>\n",
              "    <tr>\n",
              "      <th>std</th>\n",
              "      <td>295.058399</td>\n",
              "    </tr>\n",
              "    <tr>\n",
              "      <th>min</th>\n",
              "      <td>19445.574509</td>\n",
              "    </tr>\n",
              "    <tr>\n",
              "      <th>25%</th>\n",
              "      <td>19445.574509</td>\n",
              "    </tr>\n",
              "    <tr>\n",
              "      <th>50%</th>\n",
              "      <td>19739.153909</td>\n",
              "    </tr>\n",
              "    <tr>\n",
              "      <th>75%</th>\n",
              "      <td>20032.733310</td>\n",
              "    </tr>\n",
              "    <tr>\n",
              "      <th>max</th>\n",
              "      <td>20032.733310</td>\n",
              "    </tr>\n",
              "  </tbody>\n",
              "</table>\n",
              "</div>\n",
              "    <div class=\"colab-df-buttons\">\n",
              "\n",
              "  <div class=\"colab-df-container\">\n",
              "    <button class=\"colab-df-convert\" onclick=\"convertToInteractive('df-ec9e2a66-01d4-4275-9a4d-71cb093322a1')\"\n",
              "            title=\"Convert this dataframe to an interactive table.\"\n",
              "            style=\"display:none;\">\n",
              "\n",
              "  <svg xmlns=\"http://www.w3.org/2000/svg\" height=\"24px\" viewBox=\"0 -960 960 960\">\n",
              "    <path d=\"M120-120v-720h720v720H120Zm60-500h600v-160H180v160Zm220 220h160v-160H400v160Zm0 220h160v-160H400v160ZM180-400h160v-160H180v160Zm440 0h160v-160H620v160ZM180-180h160v-160H180v160Zm440 0h160v-160H620v160Z\"/>\n",
              "  </svg>\n",
              "    </button>\n",
              "\n",
              "  <style>\n",
              "    .colab-df-container {\n",
              "      display:flex;\n",
              "      gap: 12px;\n",
              "    }\n",
              "\n",
              "    .colab-df-convert {\n",
              "      background-color: #E8F0FE;\n",
              "      border: none;\n",
              "      border-radius: 50%;\n",
              "      cursor: pointer;\n",
              "      display: none;\n",
              "      fill: #1967D2;\n",
              "      height: 32px;\n",
              "      padding: 0 0 0 0;\n",
              "      width: 32px;\n",
              "    }\n",
              "\n",
              "    .colab-df-convert:hover {\n",
              "      background-color: #E2EBFA;\n",
              "      box-shadow: 0px 1px 2px rgba(60, 64, 67, 0.3), 0px 1px 3px 1px rgba(60, 64, 67, 0.15);\n",
              "      fill: #174EA6;\n",
              "    }\n",
              "\n",
              "    .colab-df-buttons div {\n",
              "      margin-bottom: 4px;\n",
              "    }\n",
              "\n",
              "    [theme=dark] .colab-df-convert {\n",
              "      background-color: #3B4455;\n",
              "      fill: #D2E3FC;\n",
              "    }\n",
              "\n",
              "    [theme=dark] .colab-df-convert:hover {\n",
              "      background-color: #434B5C;\n",
              "      box-shadow: 0px 1px 3px 1px rgba(0, 0, 0, 0.15);\n",
              "      filter: drop-shadow(0px 1px 2px rgba(0, 0, 0, 0.3));\n",
              "      fill: #FFFFFF;\n",
              "    }\n",
              "  </style>\n",
              "\n",
              "    <script>\n",
              "      const buttonEl =\n",
              "        document.querySelector('#df-ec9e2a66-01d4-4275-9a4d-71cb093322a1 button.colab-df-convert');\n",
              "      buttonEl.style.display =\n",
              "        google.colab.kernel.accessAllowed ? 'block' : 'none';\n",
              "\n",
              "      async function convertToInteractive(key) {\n",
              "        const element = document.querySelector('#df-ec9e2a66-01d4-4275-9a4d-71cb093322a1');\n",
              "        const dataTable =\n",
              "          await google.colab.kernel.invokeFunction('convertToInteractive',\n",
              "                                                    [key], {});\n",
              "        if (!dataTable) return;\n",
              "\n",
              "        const docLinkHtml = 'Like what you see? Visit the ' +\n",
              "          '<a target=\"_blank\" href=https://colab.research.google.com/notebooks/data_table.ipynb>data table notebook</a>'\n",
              "          + ' to learn more about interactive tables.';\n",
              "        element.innerHTML = '';\n",
              "        dataTable['output_type'] = 'display_data';\n",
              "        await google.colab.output.renderOutput(dataTable, element);\n",
              "        const docLink = document.createElement('div');\n",
              "        docLink.innerHTML = docLinkHtml;\n",
              "        element.appendChild(docLink);\n",
              "      }\n",
              "    </script>\n",
              "  </div>\n",
              "\n",
              "\n",
              "<div id=\"df-d63e0838-d0d3-4755-91ab-3eedf3809490\">\n",
              "  <button class=\"colab-df-quickchart\" onclick=\"quickchart('df-d63e0838-d0d3-4755-91ab-3eedf3809490')\"\n",
              "            title=\"Suggest charts\"\n",
              "            style=\"display:none;\">\n",
              "\n",
              "<svg xmlns=\"http://www.w3.org/2000/svg\" height=\"24px\"viewBox=\"0 0 24 24\"\n",
              "     width=\"24px\">\n",
              "    <g>\n",
              "        <path d=\"M19 3H5c-1.1 0-2 .9-2 2v14c0 1.1.9 2 2 2h14c1.1 0 2-.9 2-2V5c0-1.1-.9-2-2-2zM9 17H7v-7h2v7zm4 0h-2V7h2v10zm4 0h-2v-4h2v4z\"/>\n",
              "    </g>\n",
              "</svg>\n",
              "  </button>\n",
              "\n",
              "<style>\n",
              "  .colab-df-quickchart {\n",
              "      --bg-color: #E8F0FE;\n",
              "      --fill-color: #1967D2;\n",
              "      --hover-bg-color: #E2EBFA;\n",
              "      --hover-fill-color: #174EA6;\n",
              "      --disabled-fill-color: #AAA;\n",
              "      --disabled-bg-color: #DDD;\n",
              "  }\n",
              "\n",
              "  [theme=dark] .colab-df-quickchart {\n",
              "      --bg-color: #3B4455;\n",
              "      --fill-color: #D2E3FC;\n",
              "      --hover-bg-color: #434B5C;\n",
              "      --hover-fill-color: #FFFFFF;\n",
              "      --disabled-bg-color: #3B4455;\n",
              "      --disabled-fill-color: #666;\n",
              "  }\n",
              "\n",
              "  .colab-df-quickchart {\n",
              "    background-color: var(--bg-color);\n",
              "    border: none;\n",
              "    border-radius: 50%;\n",
              "    cursor: pointer;\n",
              "    display: none;\n",
              "    fill: var(--fill-color);\n",
              "    height: 32px;\n",
              "    padding: 0;\n",
              "    width: 32px;\n",
              "  }\n",
              "\n",
              "  .colab-df-quickchart:hover {\n",
              "    background-color: var(--hover-bg-color);\n",
              "    box-shadow: 0 1px 2px rgba(60, 64, 67, 0.3), 0 1px 3px 1px rgba(60, 64, 67, 0.15);\n",
              "    fill: var(--button-hover-fill-color);\n",
              "  }\n",
              "\n",
              "  .colab-df-quickchart-complete:disabled,\n",
              "  .colab-df-quickchart-complete:disabled:hover {\n",
              "    background-color: var(--disabled-bg-color);\n",
              "    fill: var(--disabled-fill-color);\n",
              "    box-shadow: none;\n",
              "  }\n",
              "\n",
              "  .colab-df-spinner {\n",
              "    border: 2px solid var(--fill-color);\n",
              "    border-color: transparent;\n",
              "    border-bottom-color: var(--fill-color);\n",
              "    animation:\n",
              "      spin 1s steps(1) infinite;\n",
              "  }\n",
              "\n",
              "  @keyframes spin {\n",
              "    0% {\n",
              "      border-color: transparent;\n",
              "      border-bottom-color: var(--fill-color);\n",
              "      border-left-color: var(--fill-color);\n",
              "    }\n",
              "    20% {\n",
              "      border-color: transparent;\n",
              "      border-left-color: var(--fill-color);\n",
              "      border-top-color: var(--fill-color);\n",
              "    }\n",
              "    30% {\n",
              "      border-color: transparent;\n",
              "      border-left-color: var(--fill-color);\n",
              "      border-top-color: var(--fill-color);\n",
              "      border-right-color: var(--fill-color);\n",
              "    }\n",
              "    40% {\n",
              "      border-color: transparent;\n",
              "      border-right-color: var(--fill-color);\n",
              "      border-top-color: var(--fill-color);\n",
              "    }\n",
              "    60% {\n",
              "      border-color: transparent;\n",
              "      border-right-color: var(--fill-color);\n",
              "    }\n",
              "    80% {\n",
              "      border-color: transparent;\n",
              "      border-right-color: var(--fill-color);\n",
              "      border-bottom-color: var(--fill-color);\n",
              "    }\n",
              "    90% {\n",
              "      border-color: transparent;\n",
              "      border-bottom-color: var(--fill-color);\n",
              "    }\n",
              "  }\n",
              "</style>\n",
              "\n",
              "  <script>\n",
              "    async function quickchart(key) {\n",
              "      const quickchartButtonEl =\n",
              "        document.querySelector('#' + key + ' button');\n",
              "      quickchartButtonEl.disabled = true;  // To prevent multiple clicks.\n",
              "      quickchartButtonEl.classList.add('colab-df-spinner');\n",
              "      try {\n",
              "        const charts = await google.colab.kernel.invokeFunction(\n",
              "            'suggestCharts', [key], {});\n",
              "      } catch (error) {\n",
              "        console.error('Error during call to suggestCharts:', error);\n",
              "      }\n",
              "      quickchartButtonEl.classList.remove('colab-df-spinner');\n",
              "      quickchartButtonEl.classList.add('colab-df-quickchart-complete');\n",
              "    }\n",
              "    (() => {\n",
              "      let quickchartButtonEl =\n",
              "        document.querySelector('#df-d63e0838-d0d3-4755-91ab-3eedf3809490 button');\n",
              "      quickchartButtonEl.style.display =\n",
              "        google.colab.kernel.accessAllowed ? 'block' : 'none';\n",
              "    })();\n",
              "  </script>\n",
              "</div>\n",
              "\n",
              "    </div>\n",
              "  </div>\n"
            ],
            "application/vnd.google.colaboratory.intrinsic+json": {
              "type": "dataframe",
              "summary": "{\n  \"name\": \"pd\",\n  \"rows\": 8,\n  \"fields\": [\n    {\n      \"column\": 0,\n      \"properties\": {\n        \"dtype\": \"number\",\n        \"std\": 9048.886464883259,\n        \"min\": 100.0,\n        \"max\": 20032.73330979804,\n        \"num_unique_values\": 5,\n        \"samples\": [\n          19739.153909224446,\n          20032.73330979804,\n          295.0583993575952\n        ],\n        \"semantic_type\": \"\",\n        \"description\": \"\"\n      }\n    }\n  ]\n}"
            }
          },
          "metadata": {},
          "execution_count": 28
        }
      ]
    },
    {
      "cell_type": "markdown",
      "source": [
        "# Considerar que la variable X toma los valores 1,2,3,4,5,6,7,8,9,10\n",
        "\n",
        "# a) ¿Cuánto vale la media, mediana, la desviación estándar muestral, la varianza muestral y el rango de la variable X?"
      ],
      "metadata": {
        "id": "fsTKyLdd-9We"
      }
    },
    {
      "cell_type": "code",
      "source": [
        "import numpy as np\n",
        "\n",
        "# Definir la variable X\n",
        "X = np.array([1, 2, 3, 4, 5, 6, 7, 8, 9, 10])\n",
        "\n",
        "# Calcular estadísticas\n",
        "media = np.mean(X)  # Media\n",
        "mediana = np.median(X)  # Mediana\n",
        "desviacion_std_muestral = np.std(X, ddof=1)  # Desviación estándar muestral\n",
        "varianza_muestral = np.var(X, ddof=1)  # Varianza muestral\n",
        "rango = np.ptp(X)  # Rango\n",
        "\n",
        "print(\"Media:\", media)\n",
        "print(\"Mediana:\", mediana)\n",
        "print(\"Desviacion estándar muestral:\", desviacion_std_muestral)\n",
        "print(\"Varianza muestral:\", varianza_muestral)\n",
        "print(\"Rango:\", rango)"
      ],
      "metadata": {
        "colab": {
          "base_uri": "https://localhost:8080/"
        },
        "id": "mH5Shyw1_Naa",
        "outputId": "c9691ef6-4cac-49b1-fa0f-d9dd06563079"
      },
      "execution_count": 1,
      "outputs": [
        {
          "output_type": "stream",
          "name": "stdout",
          "text": [
            "Media: 5.5\n",
            "Mediana: 5.5\n",
            "Desviación estándar muestral: 3.0276503540974917\n",
            "Varianza muestral: 9.166666666666666\n",
            "Rango: 9\n"
          ]
        }
      ]
    },
    {
      "cell_type": "markdown",
      "source": [
        "# b) Utilizar la función describe() de Panda, para obtener la media, desviación estándar, etc…\n"
      ],
      "metadata": {
        "id": "4HPpd3M5_dwA"
      }
    },
    {
      "cell_type": "code",
      "source": [
        "import pandas as pd\n",
        "\n",
        "data = pd.DataFrame({'X': [1, 2, 3, 4, 5, 6, 7, 8, 9, 10]})\n",
        "estadisticas_descriptivas = data.describe()\n",
        "print(estadisticas_descriptivas)"
      ],
      "metadata": {
        "colab": {
          "base_uri": "https://localhost:8080/"
        },
        "id": "3GE-I5_B_gST",
        "outputId": "e2da2b2d-4933-4466-eb01-505e3d67ed4d"
      },
      "execution_count": 2,
      "outputs": [
        {
          "output_type": "stream",
          "name": "stdout",
          "text": [
            "              X\n",
            "count  10.00000\n",
            "mean    5.50000\n",
            "std     3.02765\n",
            "min     1.00000\n",
            "25%     3.25000\n",
            "50%     5.50000\n",
            "75%     7.75000\n",
            "max    10.00000\n"
          ]
        }
      ]
    },
    {
      "cell_type": "markdown",
      "source": [
        "# c) ¿Por qué el resultado de calcular la desviación estándar con Numpy es diferente a la calculada por describe de Panda? ¿Qué ajuste sería necesario realizar para que los resultados fuesen similares/iguales?\n",
        "\n",
        "La diferencia ocurre porque:\n",
        "\n",
        "*   Numpy (std por defecto) calcula la desviación estándar poblacional (𝑁 en el denominador).\n",
        "*   Pandas (describe) usa la desviación estándar muestral (𝑁 − 1 en el denominador).\n",
        "\n"
      ],
      "metadata": {
        "id": "BjNWSP28AZGR"
      }
    },
    {
      "cell_type": "code",
      "source": [
        "import numpy as np\n",
        "import pandas as pd\n",
        "\n",
        "X = np.array([1, 2, 3, 4, 5, 6, 7, 8, 9, 10])\n",
        "\n",
        "# Desviación con numpy (por defecto: poblacional)\n",
        "desviacion_std_numpy_poblacional = np.std(X)\n",
        "\n",
        "# Desviación con numpy (ajustada: muestral)\n",
        "desviacion_std_numpy_muestral = np.std(X, ddof=1)\n",
        "\n",
        "# Desviación con pandas\n",
        "data = pd.DataFrame({'X': X})\n",
        "desviacion_std_pandas = data['X'].std()\n",
        "\n",
        "print(\"Desviación estándar (Numpy, poblacional):\", desviacion_std_numpy_poblacional)\n",
        "print(\"Desviación estándar (Numpy, muestral):\", desviacion_std_numpy_muestral)\n",
        "print(\"Desviación estándar (Pandas, describe):\", desviacion_std_pandas)"
      ],
      "metadata": {
        "colab": {
          "base_uri": "https://localhost:8080/"
        },
        "id": "I6VCBk1nA2zg",
        "outputId": "3a34a909-e172-4374-e620-731f047e7396"
      },
      "execution_count": 3,
      "outputs": [
        {
          "output_type": "stream",
          "name": "stdout",
          "text": [
            "Desviación estándar (Numpy, poblacional): 2.8722813232690143\n",
            "Desviación estándar (Numpy, muestral): 3.0276503540974917\n",
            "Desviación estándar (Pandas, describe): 3.0276503540974917\n"
          ]
        }
      ]
    },
    {
      "cell_type": "markdown",
      "source": [
        "# d) Estandarizar la variable (escalamiento) mediante rangos y a continuación calcular la media y la mediana de la variable escalada"
      ],
      "metadata": {
        "id": "sYSIEeGYBFE3"
      }
    },
    {
      "cell_type": "code",
      "source": [
        "import numpy as np\n",
        "from sklearn.preprocessing import MinMaxScaler\n",
        "\n",
        "X = np.array([1, 2, 3, 4, 5, 6, 7, 8, 9, 10])\n",
        "\n",
        "# Escalamiento mediante rangos\n",
        "scaler = MinMaxScaler()\n",
        "X_escalado = scaler.fit_transform(X.reshape(-1, 1)).flatten()\n",
        "\n",
        "# Calcular la media y mediana de la variable escalada\n",
        "media_escalada = np.mean(X_escalado)\n",
        "mediana_escalada = np.median(X_escalado)\n",
        "\n",
        "print(\"Variable escalada:\", X_escalado)\n",
        "print(\"Media de la variable escalada:\", media_escalada)\n",
        "print(\"Mediana de la variable escalada:\", mediana_escalada)"
      ],
      "metadata": {
        "colab": {
          "base_uri": "https://localhost:8080/"
        },
        "id": "5R0cOX0UBhD1",
        "outputId": "86d64be4-7dd4-4811-9417-430ccdbba4c3"
      },
      "execution_count": 4,
      "outputs": [
        {
          "output_type": "stream",
          "name": "stdout",
          "text": [
            "Variable escalada: [0.         0.11111111 0.22222222 0.33333333 0.44444444 0.55555556\n",
            " 0.66666667 0.77777778 0.88888889 1.        ]\n",
            "Media de la variable escalada: 0.5\n",
            "Mediana de la variable escalada: 0.5\n"
          ]
        }
      ]
    },
    {
      "cell_type": "markdown",
      "source": [
        "# e) Repetir el apartado anterior con el escalamiento Z - score"
      ],
      "metadata": {
        "id": "vCiZzG-0B18B"
      }
    },
    {
      "cell_type": "code",
      "source": [
        "import numpy as np\n",
        "from sklearn.preprocessing import StandardScaler\n",
        "\n",
        "X = np.array([1, 2, 3, 4, 5, 6, 7, 8, 9, 10])\n",
        "\n",
        "# Escalamiento Z-Score\n",
        "scaler_z = StandardScaler()\n",
        "X_escalado_z = scaler_z.fit_transform(X.reshape(-1, 1)).flatten()\n",
        "\n",
        "# Calcular la media y mediana de la variable escalada con Z-score\n",
        "media_escalada_z = np.mean(X_escalado_z)\n",
        "mediana_escalada_z = np.median(X_escalado_z)\n",
        "\n",
        "print(\"Variable escalada (Z-Score):\", X_escalado_z)\n",
        "print(\"Media de la variable escalada (Z-Score):\", media_escalada_z)\n",
        "print(\"Mediana de la variable escalada (Z-Score):\", mediana_escalada_z)\n"
      ],
      "metadata": {
        "colab": {
          "base_uri": "https://localhost:8080/"
        },
        "id": "prD7VwDXB3UL",
        "outputId": "2a72848e-2cbf-49e1-cda5-ee69b0e6641b"
      },
      "execution_count": 5,
      "outputs": [
        {
          "output_type": "stream",
          "name": "stdout",
          "text": [
            "Variable escalada (Z-Score): [-1.5666989  -1.21854359 -0.87038828 -0.52223297 -0.17407766  0.17407766\n",
            "  0.52223297  0.87038828  1.21854359  1.5666989 ]\n",
            "Media de la variable escalada (Z-Score): -6.661338147750939e-17\n",
            "Mediana de la variable escalada (Z-Score): 0.0\n"
          ]
        }
      ]
    }
  ]
}